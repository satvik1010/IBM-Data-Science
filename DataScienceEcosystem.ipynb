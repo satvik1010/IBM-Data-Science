{
  "nbformat": 4,
  "nbformat_minor": 0,
  "metadata": {
    "colab": {
      "provenance": []
    },
    "kernelspec": {
      "name": "python3",
      "display_name": "Python 3"
    },
    "language_info": {
      "name": "python"
    }
  },
  "cells": [
    {
      "cell_type": "markdown",
      "source": [
        "# Data Science Tools and Ecosystem"
      ],
      "metadata": {
        "id": "q7k7D9jIj5hj"
      }
    },
    {
      "cell_type": "markdown",
      "source": [
        "## Introduction  \n",
        "In this notebook, we will explore some of the key tools, languages, and libraries used in data science. We'll also perform basic arithmetic operations and learn how to write and structure content using markdown in Jupyter notebooks."
      ],
      "metadata": {
        "id": "AQ36HQhkkQRE"
      }
    },
    {
      "cell_type": "markdown",
      "source": [
        "## Languages Used in Data Science  \n",
        "Some of the commonly used languages for Data Science include:\n",
        "- Python  \n",
        "- R  \n",
        "- SQL  \n",
        "- Julia  \n",
        "- Scala  "
      ],
      "metadata": {
        "id": "p6Vax6bIkcB0"
      }
    },
    {
      "cell_type": "markdown",
      "source": [
        "## Popular Data Science Libraries  \n",
        "1. NumPy  \n",
        "2. Pandas  \n",
        "3. Matplotlib  \n",
        "4. Scikit-learn  \n",
        "5. TensorFlow\n",
        "6. Keras  \n",
        "7. PyTorch  "
      ],
      "metadata": {
        "id": "ZqgjQ9ZFkssV"
      }
    },
    {
      "cell_type": "markdown",
      "source": [
        "## Data Science Tools  \n",
        "\n",
        "| Tool Name        | Category        | Description                        |\n",
        "|------------------|------------------|------------------------------------|\n",
        "| Jupyter Notebook | IDE/Notebook     | Interactive coding environment     |\n",
        "| RStudio          | IDE              | IDE for R language                 |\n",
        "| Apache Spark     | Big Data Tool    | Distributed data processing engine |\n",
        "| Tableau          | Visualization    | Data visualization platform        |\n",
        "| TensorFlow       | ML Framework     | Deep learning and ML library       |"
      ],
      "metadata": {
        "id": "64rX293-lNGz"
      }
    },
    {
      "cell_type": "markdown",
      "source": [
        "### Working with Arithmetic Expressions  \n",
        "In this section, we will evaluate some basic arithmetic expressions such as addition, multiplication, and division."
      ],
      "metadata": {
        "id": "uTZrvsLwlZW-"
      }
    },
    {
      "cell_type": "code",
      "execution_count": null,
      "metadata": {
        "colab": {
          "base_uri": "https://localhost:8080/"
        },
        "id": "MlWQrwSHj3zh",
        "outputId": "e65a57b3-28b7-43e7-b330-4e6543a118ee"
      },
      "outputs": [
        {
          "output_type": "stream",
          "name": "stdout",
          "text": [
            "The result is: 17\n"
          ]
        }
      ],
      "source": [
        "# This code multiplies 3 by 4 and adds 5 to the result\n",
        "result = (3 * 4) + 5\n",
        "print(\"The result is:\", result)"
      ]
    },
    {
      "cell_type": "code",
      "source": [
        "# Convert 200 minutes to hours\n",
        "minutes = 200\n",
        "hours = minutes / 60\n",
        "print(f\"{minutes} minutes is equal to {hours} hours\")"
      ],
      "metadata": {
        "colab": {
          "base_uri": "https://localhost:8080/"
        },
        "id": "kBHJbU49mABe",
        "outputId": "149f48dc-e765-47a1-d8f1-b231d4634510"
      },
      "execution_count": null,
      "outputs": [
        {
          "output_type": "stream",
          "name": "stdout",
          "text": [
            "200 minutes is equal to 3.3333333333333335 hours\n"
          ]
        }
      ]
    },
    {
      "cell_type": "markdown",
      "source": [
        "## Objectives  \n",
        "In this notebook, you will learn to:\n",
        "- Use markdown syntax in Jupyter Notebooks  \n",
        "- List popular tools and languages in Data Science  \n",
        "- Create and execute code cells  \n",
        "- Perform basic arithmetic operations in Python  \n",
        "- Structure a Jupyter notebook professionally  "
      ],
      "metadata": {
        "id": "BHv3eD0LmOyO"
      }
    },
    {
      "cell_type": "markdown",
      "source": [
        "## Author  \n",
        "**Satvik**"
      ],
      "metadata": {
        "id": "rn1SqtWtmZfa"
      }
    },
    {
      "cell_type": "code",
      "source": [],
      "metadata": {
        "id": "tnEV0gARlxSh"
      },
      "execution_count": null,
      "outputs": []
    }
  ]
}
